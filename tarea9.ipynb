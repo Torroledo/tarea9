{
 "metadata": {
  "name": "Tarea9Sol"
 },
 "nbformat": 3,
 "nbformat_minor": 0,
 "worksheets": [
  {
   "cells": [
    {
     "cell_type": "code",
     "collapsed": false,
     "input": [
      "%pylab inline\n",
      "#load the list of points\n",
      "obs_data = loadtxt(\"traces.dat\")\n",
      "x1 = obs_data[:,0]\n",
      "y1 = obs_data[:,1]\n",
      "z1 = obs_data[:,2]\n",
      "x2 = obs_data[:,3]\n",
      "y2 = obs_data[:,4]\n",
      "z2 = obs_data[:,5]"
     ],
     "language": "python",
     "metadata": {},
     "outputs": []
    },
    {
     "cell_type": "code",
     "collapsed": false,
     "input": [
      "def likelihood(i_obs, i_model):\n",
      "    for i in range (len(i_obs)):\n",
      "        chi_squared = sum((i_obs[i]-i_model[i])**2)\n",
      "    return -chi_squared\n",
      "\n",
      "def my_model(x0, y0, z0,x1,y1,z1,z2):\n",
      "    retorno=[]\n",
      "    delta_x= (x1-x0)/(z1-z0)\n",
      "    delta_y= (y1-y0)/(z1-z0)\n",
      "    y2= delta_y*(z2-z0)+y0\n",
      "    x2= delta_x*(z2-z0)+x0\n",
      "    retorno.append(x2)\n",
      "    retorno.append(y2)    \n",
      "    return retorno"
     ],
     "language": "python",
     "metadata": {},
     "outputs": []
    },
    {
     "cell_type": "code",
     "collapsed": false,
     "input": [
      "x0_walk = empty((0)) #this is an empty list to keep all the steps\n",
      "y0_walk = empty((0))\n",
      "z0_walk = empty((0))\n",
      "\n",
      "x0_walk = append(x0_walk, random.random())\n",
      "y0_walk = append(y0_walk, random.random())\n",
      "z0_walk = append(z0_walk, random.random())\n",
      "print x0_walk\n",
      "print y0_walk\n",
      "print z0_walk\n",
      "\n",
      "n_iterations = 100000 #this is the number of iterations I want to make\n",
      "for i in range(n_iterations):\n",
      "\n",
      "    x0_prime = np.random.normal(x0_walk[i], 1) \n",
      "    y0_prime = np.random.normal(y0_walk[i], 1)\n",
      "    z0_prime = np.random.normal(z0_walk[i], 50.0)\n",
      "    \n",
      "    while z0_prime>0.0 or z0_prime<-5000.0:\n",
      "        z0_prime= np.random.normal(z0_walk[i], 5.0)\n",
      "        \n",
      "    p_init = my_model(x0_walk[i],y0_walk[i],z0_walk[i],x1,y1,z1,z2)\n",
      "    p_prime = my_model(x0_prime,y0_prime,z0_prime,x1,y1,z1,z2)\n",
      "\n",
      "    alpha = likelihood([x2,y2,z2], [p_prime[0],p_prime[1],z2])-likelihood([x2,y2,z2], [p_init[0],p_init[1],z2])\n",
      "    if(alpha>0.0):\n",
      "        x0_walk  = append(x0_walk,x0_prime)\n",
      "        y0_walk  = append(y0_walk,y0_prime)\n",
      "        z0_walk  = append(z0_walk,z0_prime)\n",
      "    else:\n",
      "        beta = random.random()\n",
      "        if(beta<exp(alpha)):\n",
      "            x0_walk  = append(x0_walk,x0_prime)\n",
      "            y0_walk  = append(y0_walk,y0_prime)\n",
      "            z0_walk  = append(z0_walk,z0_prime)\n",
      "        else:\n",
      "            x0_walk  = append(x0_walk,x0_walk[i])\n",
      "            y0_walk  = append(y0_walk,y0_walk[i])\n",
      "            z0_walk  = append(z0_walk,z0_walk[i])"
     ],
     "language": "python",
     "metadata": {},
     "outputs": []
    },
    {
     "cell_type": "code",
     "collapsed": false,
     "input": [
      "count, bins, ignored =plt.hist(x0_walk, 20, normed=True)\n",
      "ix=np.min(np.nonzero(count == max(count))[0])\n",
      "print bins[ix]"
     ],
     "language": "python",
     "metadata": {},
     "outputs": []
    },
    {
     "cell_type": "code",
     "collapsed": false,
     "input": [
      "count, bins, ignored =plt.hist(y0_walk, 20, normed=True)\n",
      "iy=np.min(np.nonzero(count == max(count))[0])\n",
      "print bins[iy]"
     ],
     "language": "python",
     "metadata": {},
     "outputs": []
    },
    {
     "cell_type": "code",
     "collapsed": false,
     "input": [
      "count, bins, ignored =plt.hist(z0_walk, 20, normed=True)\n",
      "iz=np.min(np.nonzero(count == max(count))[0])\n",
      "print bins[iz]"
     ],
     "language": "python",
     "metadata": {},
     "outputs": []
    },
    {
     "cell_type": "code",
     "collapsed": false,
     "input": [
      "H, xedges, yedges = np.histogram2d(x0_walk, y0_walk, bins=(50, 50))\n",
      "H.shape, xedges.shape, yedges.shape\n",
      "extent = [yedges[0], yedges[-1], xedges[-1], xedges[0]]\n",
      "imshow(H, extent=extent, interpolation='nearest')\n",
      "colorbar()"
     ],
     "language": "python",
     "metadata": {},
     "outputs": []
    },
    {
     "cell_type": "code",
     "collapsed": false,
     "input": [
      "H, xedges, yedges = np.histogram2d(x0_walk, z0_walk, bins=(50, 50))\n",
      "H.shape, xedges.shape, yedges.shape\n",
      "extent = [yedges[0], yedges[-1], xedges[-1], xedges[0]]\n",
      "imshow(H, extent=extent, interpolation='nearest')\n",
      "colorbar()"
     ],
     "language": "python",
     "metadata": {},
     "outputs": []
    },
    {
     "cell_type": "code",
     "collapsed": false,
     "input": [
      "H, xedges, yedges = np.histogram2d(y0_walk, z0_walk, bins=(50, 50))\n",
      "H.shape, xedges.shape, yedges.shape\n",
      "extent = [yedges[0], yedges[-1], xedges[-1], xedges[0]]\n",
      "imshow(H, extent=extent, interpolation='nearest')\n",
      "colorbar()"
     ],
     "language": "python",
     "metadata": {},
     "outputs": []
    }
   ],
   "metadata": {}
  }
 ]
}