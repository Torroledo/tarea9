{
 "metadata": {
  "name": "tarea9_intentoJorge"
 },
 "nbformat": 3,
 "nbformat_minor": 0,
 "worksheets": [
  {
   "cells": [
    {
     "cell_type": "code",
     "collapsed": false,
     "input": [
      "%pylab inline\n",
      "#load the list of points\n",
      "obs_data = loadtxt(\"traces.dat\")\n",
      "x1 = obs_data[:,0]\n",
      "y1 = obs_data[:,1]\n",
      "z1 = obs_data[:,2]\n",
      "x2 = obs_data[:,3]\n",
      "y2 = obs_data[:,4]\n",
      "z2 = obs_data[:,5]"
     ],
     "language": "python",
     "metadata": {},
     "outputs": [
      {
       "output_type": "stream",
       "stream": "stdout",
       "text": [
        "\n",
        "Welcome to pylab, a matplotlib-based Python environment [backend: module://IPython.kernel.zmq.pylab.backend_inline].\n",
        "For more information, type 'help(pylab)'.\n"
       ]
      }
     ],
     "prompt_number": 62
    },
    {
     "cell_type": "code",
     "collapsed": false,
     "input": [
      "def likelihood(i_obs, i_model):\n",
      "    for i in range (len(i_obs)):\n",
      "        chi_squared = sum((i_obs[i]-i_model[i])**2)\n",
      "    return -chi_squared"
     ],
     "language": "python",
     "metadata": {},
     "outputs": [],
     "prompt_number": 63
    },
    {
     "cell_type": "code",
     "collapsed": false,
     "input": [
      "def my_model(x0, y0, z0,x1,y1,z1,z2):\n",
      "    retorno=[]\n",
      "    delta_x= (x1-x0)/(z1-z0)\n",
      "    delta_y= (y1-y0)/(z1-z0)\n",
      "    y2= delta_y*(z2-z0)+y0\n",
      "    x2= delta_x*(z2-z0)+x0\n",
      "    retorno.append(x2)\n",
      "    retorno.append(y2)    \n",
      "    return retorno"
     ],
     "language": "python",
     "metadata": {},
     "outputs": [],
     "prompt_number": 64
    },
    {
     "cell_type": "code",
     "collapsed": false,
     "input": [
      "x0_walk = empty((0)) #this is an empty list to keep all the steps\n",
      "y0_walk = empty((0))\n",
      "z0_walk = empty((0))\n",
      "\n",
      "x0_walk = append(x0_walk, random.random())\n",
      "y0_walk = append(y0_walk, random.random())\n",
      "z0_walk = append(z0_walk, random.random())\n",
      "print x0_walk\n",
      "print y0_walk\n",
      "print z0_walk\n",
      "\n",
      "n_iterations = 50000 #this is the number of iterations I want to make\n",
      "for i in range(n_iterations):\n",
      "\n",
      "    x0_prime = np.random.normal(x0_walk[i], 0.5) \n",
      "    y0_prime = np.random.normal(y0_walk[i], 0.5)\n",
      "    z0_prime = np.random.normal(z0_walk[i], 50.0)\n",
      "    \n",
      "    while z0_prime>0.0 or z0_prime<-8000.0:\n",
      "        z0_prime= np.random.normal(z0_walk[i], 1.0)\n",
      "        \n",
      "    \n",
      "    p_init = my_model(x0_walk[i],y0_walk[i],z0_walk[i],x1,y1,z1,z2)\n",
      "    p_prime = my_model(x0_prime,y0_prime,z0_prime,x1,y1,z1,z2)\n",
      "\n",
      "    alpha = likelihood([x2,y2,z2], [p_prime[0],p_prime[1],z2])-likelihood([x2,y2,z2], [p_init[0],p_init[1],z2])\n",
      "    if(alpha>0.0):\n",
      "        x0_walk  = append(x0_walk,x0_prime)\n",
      "        y0_walk  = append(y0_walk,y0_prime)\n",
      "        z0_walk  = append(z0_walk,z0_prime)\n",
      "    else:\n",
      "        beta = random.random()\n",
      "        if(beta<exp(-alpha*alpha)):\n",
      "            x0_walk  = append(x0_walk,x0_prime)\n",
      "            y0_walk  = append(y0_walk,y0_prime)\n",
      "            z0_walk  = append(z0_walk,z0_prime)\n",
      "        else:\n",
      "            x0_walk  = append(x0_walk,x0_walk[i])\n",
      "            y0_walk  = append(y0_walk,y0_walk[i])\n",
      "            z0_walk  = append(z0_walk,z0_walk[i])"
     ],
     "language": "python",
     "metadata": {},
     "outputs": [
      {
       "output_type": "stream",
       "stream": "stdout",
       "text": [
        "[ 0.20054499]\n",
        "[ 0.69229401]\n",
        "[ 0.57229941]\n"
       ]
      }
     ],
     "prompt_number": 86
    },
    {
     "cell_type": "code",
     "collapsed": false,
     "input": [
      "count, bins, ignored =plt.hist(x0_walk, 20, normed=True)\n",
      "ix=np.min(np.nonzero(count == max(count))[0])\n",
      "print bins[ix]"
     ],
     "language": "python",
     "metadata": {},
     "outputs": [
      {
       "output_type": "stream",
       "stream": "stdout",
       "text": [
        "58.7925327935\n"
       ]
      },
      {
       "output_type": "display_data",
       "png": "[encoded data removed]",
       "text": [
        "<matplotlib.figure.Figure at 0x38d7e90>"
       ]
      }
     ],
     "prompt_number": 87
    },
    {
     "cell_type": "code",
     "collapsed": false,
     "input": [
      "count, bins, ignored =plt.hist(y0_walk, 20, normed=True)\n",
      "iy=np.min(np.nonzero(count == max(count))[0])\n",
      "print bins[iy]"
     ],
     "language": "python",
     "metadata": {},
     "outputs": [
      {
       "output_type": "stream",
       "stream": "stdout",
       "text": [
        "-157.121026289\n"
       ]
      },
      {
       "output_type": "display_data",
       "png": "[encoded data removed]",
       "text": [
        "<matplotlib.figure.Figure at 0x3bdbe90>"
       ]
      }
     ],
     "prompt_number": 88
    },
    {
     "cell_type": "code",
     "collapsed": false,
     "input": [
      "count, bins, ignored =plt.hist(z0_walk, 20, normed=True)\n",
      "iz=np.min(np.nonzero(count == max(count))[0])\n",
      "print bins[iz]"
     ],
     "language": "python",
     "metadata": {},
     "outputs": [
      {
       "output_type": "stream",
       "stream": "stdout",
       "text": [
        "-3999.71074834\n"
       ]
      },
      {
       "output_type": "display_data",
       "png": "[encoded data removed]",
       "text": [
        "<matplotlib.figure.Figure at 0x3e55ad0>"
       ]
      }
     ],
     "prompt_number": 89
    },
    {
     "cell_type": "code",
     "collapsed": false,
     "input": [
      "H, xedges, yedges = np.histogram2d(x0_walk, y0_walk, bins=(50, 50))\n",
      "H.shape, xedges.shape, yedges.shape\n",
      "extent = [yedges[0], yedges[-1], xedges[-1], xedges[0]]\n",
      "imshow(H, extent=extent, interpolation='nearest')"
     ],
     "language": "python",
     "metadata": {},
     "outputs": [
      {
       "output_type": "pyout",
       "prompt_number": 90,
       "text": [
        "<matplotlib.image.AxesImage at 0x432ed50>"
       ]
      },
      {
       "output_type": "display_data",
       "png": "[encoded data removed]",
       "text": [
        "<matplotlib.figure.Figure at 0x403be10>"
       ]
      }
     ],
     "prompt_number": 90
    },
    {
     "cell_type": "code",
     "collapsed": false,
     "input": [
      "H, xedges, yedges = np.histogram2d(x0_walk, z0_walk, bins=(50, 50))\n",
      "H.shape, xedges.shape, yedges.shape\n",
      "extent = [yedges[0], yedges[-1], xedges[-1], xedges[0]]\n",
      "imshow(H, extent=extent, interpolation='nearest')"
     ],
     "language": "python",
     "metadata": {},
     "outputs": [
      {
       "output_type": "pyout",
       "prompt_number": 91,
       "text": [
        "<matplotlib.image.AxesImage at 0x404b150>"
       ]
      },
      {
       "output_type": "display_data",
       "png": "[encoded data removed]",
       "text": [
        "<matplotlib.figure.Figure at 0x2fff650>"
       ]
      }
     ],
     "prompt_number": 91
    },
    {
     "cell_type": "code",
     "collapsed": false,
     "input": [
      "H, xedges, yedges = np.histogram2d(y0_walk, z0_walk, bins=(50, 50))\n",
      "H.shape, xedges.shape, yedges.shape\n",
      "extent = [yedges[0], yedges[-1], xedges[-1], xedges[0]]\n",
      "imshow(H, extent=extent, interpolation='nearest')"
     ],
     "language": "python",
     "metadata": {},
     "outputs": [
      {
       "output_type": "pyout",
       "prompt_number": 92,
       "text": [
        "<matplotlib.image.AxesImage at 0x4102490>"
       ]
      },
      {
       "output_type": "display_data",
       "png": "[encoded data removed]",
       "text": [
        "<matplotlib.figure.Figure at 0x4346550>"
       ]
      }
     ],
     "prompt_number": 92
    },
    {
     "cell_type": "code",
     "collapsed": false,
     "input": [],
     "language": "python",
     "metadata": {},
     "outputs": [],
     "prompt_number": 92
    },
    {
     "cell_type": "code",
     "collapsed": false,
     "input": [],
     "language": "python",
     "metadata": {},
     "outputs": [],
     "prompt_number": 85
    },
    {
     "cell_type": "code",
     "collapsed": false,
     "input": [],
     "language": "python",
     "metadata": {},
     "outputs": [],
     "prompt_number": 61
    },
    {
     "cell_type": "code",
     "collapsed": false,
     "input": [],
     "language": "python",
     "metadata": {},
     "outputs": [],
     "prompt_number": 61
    },
    {
     "cell_type": "code",
     "collapsed": false,
     "input": [],
     "language": "python",
     "metadata": {},
     "outputs": [],
     "prompt_number": 61
    },
    {
     "cell_type": "code",
     "collapsed": false,
     "input": [],
     "language": "python",
     "metadata": {},
     "outputs": [],
     "prompt_number": 53
    },
    {
     "cell_type": "code",
     "collapsed": false,
     "input": [],
     "language": "python",
     "metadata": {},
     "outputs": [],
     "prompt_number": 53
    },
    {
     "cell_type": "code",
     "collapsed": false,
     "input": [],
     "language": "python",
     "metadata": {},
     "outputs": [],
     "prompt_number": 394
    },
    {
     "cell_type": "code",
     "collapsed": false,
     "input": [],
     "language": "python",
     "metadata": {},
     "outputs": [],
     "prompt_number": 394
    },
    {
     "cell_type": "code",
     "collapsed": false,
     "input": [],
     "language": "python",
     "metadata": {},
     "outputs": [],
     "prompt_number": 394
    },
    {
     "cell_type": "code",
     "collapsed": false,
     "input": [],
     "language": "python",
     "metadata": {},
     "outputs": []
    }
   ],
   "metadata": {}
  }
 ]
}